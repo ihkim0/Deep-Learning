{
  "cells": [
    {
      "cell_type": "markdown",
      "metadata": {
        "id": "view-in-github",
        "colab_type": "text"
      },
      "source": [
        "<a href=\"https://colab.research.google.com/github/ihkim0/Deep-Learning/blob/main/%5B%EC%BD%94%EB%93%9C_3_2%5D_TFEagerExec.ipynb\" target=\"_parent\"><img src=\"https://colab.research.google.com/assets/colab-badge.svg\" alt=\"Open In Colab\"/></a>"
      ]
    },
    {
      "cell_type": "markdown",
      "metadata": {
        "id": "71Y0ZS6pu0DT"
      },
      "source": [
        "[1] 즉시 실행 모드의 프로그램"
      ]
    },
    {
      "cell_type": "code",
      "execution_count": null,
      "metadata": {
        "id": "nqPGS4i6u0DY"
      },
      "outputs": [],
      "source": [
        "import tensorflow as tf\n",
        "\n",
        "a = tf.constant(2.)\n",
        "b = tf.constant(3.)\n",
        "c = a + b\n",
        "print('c =', c)"
      ]
    }
  ],
  "metadata": {
    "kernelspec": {
      "display_name": "Python 3",
      "language": "python",
      "name": "python3"
    },
    "language_info": {
      "codemirror_mode": {
        "name": "ipython",
        "version": 3
      },
      "file_extension": ".py",
      "mimetype": "text/x-python",
      "name": "python",
      "nbconvert_exporter": "python",
      "pygments_lexer": "ipython3",
      "version": "3.7.7"
    },
    "colab": {
      "provenance": [],
      "include_colab_link": true
    }
  },
  "nbformat": 4,
  "nbformat_minor": 0
}
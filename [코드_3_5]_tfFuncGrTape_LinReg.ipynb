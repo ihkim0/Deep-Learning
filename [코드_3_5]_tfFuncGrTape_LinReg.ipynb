{
  "cells": [
    {
      "cell_type": "markdown",
      "metadata": {
        "id": "view-in-github",
        "colab_type": "text"
      },
      "source": [
        "<a href=\"https://colab.research.google.com/github/ihkim0/Deep-Learning/blob/main/%5B%EC%BD%94%EB%93%9C_3_5%5D_tfFuncGrTape_LinReg.ipynb\" target=\"_parent\"><img src=\"https://colab.research.google.com/assets/colab-badge.svg\" alt=\"Open In Colab\"/></a>"
      ]
    },
    {
      "cell_type": "markdown",
      "metadata": {
        "id": "M7GDZEuH1y6S"
      },
      "source": [
        "[1] 필요한 패키지 불러오기"
      ]
    },
    {
      "cell_type": "code",
      "execution_count": null,
      "metadata": {
        "id": "JOLacrgD1y6V"
      },
      "outputs": [],
      "source": [
        "import tensorflow as tf\n",
        "import numpy as np"
      ]
    },
    {
      "cell_type": "markdown",
      "metadata": {
        "id": "tmLoo14l1y6W"
      },
      "source": [
        "[2] 학습표본 집합 및 가중치와 바이어스 등 정의"
      ]
    },
    {
      "cell_type": "code",
      "execution_count": null,
      "metadata": {
        "id": "A5Zrm6oU1y6X"
      },
      "outputs": [],
      "source": [
        "x = tf.constant([1., 3., 5., 7.])\n",
        "y = tf.constant([2., 3., 4., 5.])\n",
        "w = tf.Variable(1.)\n",
        "b = tf.Variable(0.5)\n",
        "learning_rate = 0.01\n",
        "epochs = 1000"
      ]
    },
    {
      "cell_type": "markdown",
      "metadata": {
        "id": "q8z_k1eY1y6X"
      },
      "source": [
        "[3] 학습 단계의 처리 함수 정의"
      ]
    },
    {
      "cell_type": "code",
      "execution_count": null,
      "metadata": {
        "id": "oL-1REHh1y6Y"
      },
      "outputs": [],
      "source": [
        "def train_step(x, y):\n",
        "    with tf.GradientTape() as t:\n",
        "        y_hat = w * x + b\n",
        "        loss = (y_hat - y) ** 2\n",
        "    grads = t.gradient(loss, [w, b])\n",
        "    w.assign_sub(learning_rate * grads[0])\n",
        "    b.assign_sub(learning_rate * grads[1])"
      ]
    },
    {
      "cell_type": "markdown",
      "metadata": {
        "id": "KPdozG_A1y6Y"
      },
      "source": [
        "[4] 학습표본 집합에 대한 반복 학습"
      ]
    },
    {
      "cell_type": "code",
      "execution_count": null,
      "metadata": {
        "id": "ryojwd011y6Y"
      },
      "outputs": [],
      "source": [
        "for i in range(epochs):\n",
        "    for k in range(len(y)):\n",
        "        train_step(x[k], y[k])"
      ]
    },
    {
      "cell_type": "markdown",
      "metadata": {
        "id": "9wxvc7ZW1y6Z"
      },
      "source": [
        "[5] 학습된 파라미터 출력"
      ]
    },
    {
      "cell_type": "code",
      "execution_count": null,
      "metadata": {
        "id": "OxOMeSWK1y6Z"
      },
      "outputs": [],
      "source": [
        "print('w: {:8.5f}    b: {:8.5f}'.format(w.numpy(), b.numpy()))"
      ]
    },
    {
      "cell_type": "markdown",
      "metadata": {
        "id": "k7fz_G8W1y6Z"
      },
      "source": [
        "[6] 학습된 파라미터를 이용한 모델 실행"
      ]
    },
    {
      "cell_type": "code",
      "execution_count": null,
      "metadata": {
        "id": "xO0CQ8yR1y6Z"
      },
      "outputs": [],
      "source": [
        "f = 'x:{:8.5f} --> y:{:8.5f}'\n",
        "for k in range(len(y)):\n",
        "    y_hat = w * x[k] + b\n",
        "    print(f.format(x[k].numpy(), y_hat.numpy()))"
      ]
    }
  ],
  "metadata": {
    "kernelspec": {
      "display_name": "Python 3 (ipykernel)",
      "language": "python",
      "name": "python3"
    },
    "language_info": {
      "codemirror_mode": {
        "name": "ipython",
        "version": 3
      },
      "file_extension": ".py",
      "mimetype": "text/x-python",
      "name": "python",
      "nbconvert_exporter": "python",
      "pygments_lexer": "ipython3",
      "version": "3.9.16"
    },
    "colab": {
      "provenance": [],
      "include_colab_link": true
    }
  },
  "nbformat": 4,
  "nbformat_minor": 0
}
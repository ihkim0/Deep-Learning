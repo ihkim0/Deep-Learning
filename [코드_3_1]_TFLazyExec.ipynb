{
  "cells": [
    {
      "cell_type": "markdown",
      "metadata": {
        "id": "view-in-github",
        "colab_type": "text"
      },
      "source": [
        "<a href=\"https://colab.research.google.com/github/ihkim0/Deep-Learning/blob/main/%5B%EC%BD%94%EB%93%9C_3_1%5D_TFLazyExec.ipynb\" target=\"_parent\"><img src=\"https://colab.research.google.com/assets/colab-badge.svg\" alt=\"Open In Colab\"/></a>"
      ]
    },
    {
      "cell_type": "markdown",
      "metadata": {
        "id": "lbm8MEDQwYex"
      },
      "source": [
        "[1] 지연 실행 모드의 계산 그래프 구성"
      ]
    },
    {
      "cell_type": "code",
      "execution_count": null,
      "metadata": {
        "id": "sHoRw5WHwYez",
        "outputId": "ff87059b-1e9c-4f0c-e879-69161e8a42fe",
        "colab": {
          "base_uri": "https://localhost:8080/"
        }
      },
      "outputs": [
        {
          "output_type": "stream",
          "name": "stdout",
          "text": [
            "c = Tensor(\"add_1:0\", dtype=float32)\n"
          ]
        }
      ],
      "source": [
        "import tensorflow.compat.v1 as tf\n",
        "tf.disable_v2_behavior()\n",
        "\n",
        "# 계산 그래프 정의\n",
        "a = tf.placeholder(tf.float32)\n",
        "b = tf.placeholder(tf.float32)\n",
        "c = a + b\n",
        "print('c =', c)"
      ]
    },
    {
      "cell_type": "markdown",
      "metadata": {
        "id": "POaPImYtwYez"
      },
      "source": [
        "[2] 계산 그래프의 실행"
      ]
    },
    {
      "cell_type": "code",
      "execution_count": null,
      "metadata": {
        "id": "rdNWApeWwYez",
        "outputId": "5abf7a1c-45c3-421a-c831-4b0eacb1c4a7",
        "colab": {
          "base_uri": "https://localhost:8080/"
        }
      },
      "outputs": [
        {
          "output_type": "stream",
          "name": "stdout",
          "text": [
            "result = 5.0\n"
          ]
        }
      ],
      "source": [
        "# 세션을 생성하여 그래프를 실행함\n",
        "with tf.Session() as sess:\n",
        "    # 'c'의 연산을 하는 그래프를 실행함\n",
        "    result = sess.run(c, {a:2., b:3.})\n",
        "print('result =', result)"
      ]
    }
  ],
  "metadata": {
    "kernelspec": {
      "display_name": "Python 3",
      "language": "python",
      "name": "python3"
    },
    "language_info": {
      "codemirror_mode": {
        "name": "ipython",
        "version": 3
      },
      "file_extension": ".py",
      "mimetype": "text/x-python",
      "name": "python",
      "nbconvert_exporter": "python",
      "pygments_lexer": "ipython3",
      "version": "3.7.7"
    },
    "colab": {
      "provenance": [],
      "include_colab_link": true
    }
  },
  "nbformat": 4,
  "nbformat_minor": 0
}
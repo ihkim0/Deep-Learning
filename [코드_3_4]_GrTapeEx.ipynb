{
  "cells": [
    {
      "cell_type": "markdown",
      "metadata": {
        "id": "view-in-github",
        "colab_type": "text"
      },
      "source": [
        "<a href=\"https://colab.research.google.com/github/ihkim0/Deep-Learning/blob/main/%5B%EC%BD%94%EB%93%9C_3_4%5D_GrTapeEx.ipynb\" target=\"_parent\"><img src=\"https://colab.research.google.com/assets/colab-badge.svg\" alt=\"Open In Colab\"/></a>"
      ]
    },
    {
      "cell_type": "markdown",
      "metadata": {
        "id": "m0-jx2vFkpqq"
      },
      "source": [
        "[1] 자동 미분"
      ]
    },
    {
      "cell_type": "code",
      "execution_count": null,
      "metadata": {
        "id": "gbyEQJrZkpqz"
      },
      "outputs": [],
      "source": [
        "import tensorflow as tf\n",
        "\n",
        "x1 = tf.Variable(3.)\n",
        "x2 = tf.Variable(1., trainable=False)\n",
        "with tf.GradientTape() as t:\n",
        "    t.watch(x2)\n",
        "    y = (x1 + 2 * x2) ** 2\n",
        "dy_dx = t.gradient(y, [x1, x2])\n",
        "print(f'dy/dx1 = {dy_dx[0]}')\n",
        "print(f'dy/dx2 = {dy_dx[1]}')"
      ]
    }
  ],
  "metadata": {
    "kernelspec": {
      "display_name": "Python 3",
      "language": "python",
      "name": "python3"
    },
    "language_info": {
      "codemirror_mode": {
        "name": "ipython",
        "version": 3
      },
      "file_extension": ".py",
      "mimetype": "text/x-python",
      "name": "python",
      "nbconvert_exporter": "python",
      "pygments_lexer": "ipython3",
      "version": "3.7.7"
    },
    "colab": {
      "provenance": [],
      "include_colab_link": true
    }
  },
  "nbformat": 4,
  "nbformat_minor": 0
}